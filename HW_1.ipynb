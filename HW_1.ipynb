{
 "cells": [
  {
   "cell_type": "markdown",
   "metadata": {},
   "source": [
    "### HW_1"
   ]
  },
  {
   "cell_type": "markdown",
   "metadata": {
    "colab_type": "text",
    "id": "huXrhXQsZTMt"
   },
   "source": [
    "#### 1. Подберите скорость обучения (alpha) и количество итераций:"
   ]
  },
  {
   "cell_type": "code",
   "execution_count": 1,
   "metadata": {
    "colab": {},
    "colab_type": "code",
    "id": "ak8b3KV45kVW"
   },
   "outputs": [],
   "source": [
    "import numpy as np\n",
    "import matplotlib.pyplot as plt"
   ]
  },
  {
   "cell_type": "code",
   "execution_count": 2,
   "metadata": {
    "colab": {},
    "colab_type": "code",
    "id": "i77tZbAd5plB"
   },
   "outputs": [],
   "source": [
    "X = np.array([[1, 1, 1, 1, 1, 1, 1, 1, 1, 1],\n",
    "              [1, 1, 2, 1, 3, 0, 5, 10, 1, 2]])"
   ]
  },
  {
   "cell_type": "code",
   "execution_count": 3,
   "metadata": {
    "colab": {},
    "colab_type": "code",
    "id": "VsNrKi1Q6Wmh"
   },
   "outputs": [],
   "source": [
    "y = [45, 55, 50, 59, 65, 35, 75, 80, 50, 60]"
   ]
  },
  {
   "cell_type": "code",
   "execution_count": 4,
   "metadata": {
    "colab": {},
    "colab_type": "code",
    "id": "JTSC2cFnCd8T"
   },
   "outputs": [],
   "source": [
    "def calc_mse(y, y_pred):\n",
    "    err = np.mean((y - y_pred)**2)\n",
    "    return err"
   ]
  },
  {
   "cell_type": "code",
   "execution_count": 5,
   "metadata": {
    "colab": {
     "base_uri": "https://localhost:8080/",
     "height": 185
    },
    "colab_type": "code",
    "id": "IDB22MQKMYaJ",
    "outputId": "4c03219e-a57c-4583-f439-6699fd0619bb"
   },
   "outputs": [
    {
     "name": "stdout",
     "output_type": "stream",
     "text": [
      "Наилучшее значение метрики MSE = 45.937499999999964 достигается\n",
      "при значении alpha = 0.000146\n",
      "на 579 шаге при значении intercept = 47.2321,\n",
      "и значении коэффициента при x = 3.9107.\n",
      "Наиболее удачное максимальное количество итераций = 650.\n"
     ]
    }
   ],
   "source": [
    "n = X.shape[1]\n",
    "alpha = 1e-4\n",
    "W = np.array([1, 0.5])\n",
    "err_min = np.inf\n",
    "alpha_min = 1e-6\n",
    "\n",
    "for al in range(1, 1000, 5):\n",
    "    alpha = al * 1e-6\n",
    "    \n",
    "    for iter_ in range(50, 1000, 50):\n",
    "        \n",
    "        for i in range(iter_):\n",
    "            y_pred = np.dot(W, X)\n",
    "            err = calc_mse(y, y_pred)\n",
    "            for j in range(W.shape[0]):\n",
    "                W[j] -= alpha * (1/n * 2 * np.sum(X[j] * (y_pred - y)))\n",
    "            if err < err_min:\n",
    "                i_min = i\n",
    "                W_min = W \n",
    "                err_min = err\n",
    "                iter_min = iter_\n",
    "                alpha_min = alpha\n",
    "            \n",
    "print(f'Наилучшее значение метрики MSE = {err_min} достигается'\n",
    "      f'\\nпри значении alpha = {alpha_min}'\n",
    "      f'\\nна {i_min} шаге при значении intercept = {W_min[0]:.4f},'\n",
    "      f'\\nи значении коэффициента при x = {W_min[1]:.4f}.'\n",
    "      f'\\nНаиболее удачное максимальное количество итераций = {iter_min}.')"
   ]
  },
  {
   "cell_type": "markdown",
   "metadata": {
    "colab_type": "text",
    "id": "5Qu1o4JhZYwI"
   },
   "source": [
    "#### *2. В этом коде мы избавляемся от итераций по весам, но тут есть ошибка, исправьте ее:"
   ]
  },
  {
   "cell_type": "code",
   "execution_count": 6,
   "metadata": {
    "colab": {
     "base_uri": "https://localhost:8080/",
     "height": 185
    },
    "colab_type": "code",
    "id": "WZZzDCQLY4pA",
    "outputId": "28f58ade-72f2-4381-809d-2417752d56e4"
   },
   "outputs": [
    {
     "name": "stdout",
     "output_type": "stream",
     "text": [
      "0 [2.102 3.9  ] 3173.15\n",
      "100 [31.88770806  6.74418155] 175.19445858001865\n",
      "200 [41.83683774  4.90699865] 61.9177717428135\n",
      "300 [45.33508261  4.26102097] 47.913169919666785\n",
      "400 [46.56511152  4.03388672] 46.181755648107604\n",
      "500 [46.99760587  3.95402334] 45.96769776787538\n",
      "600 [47.14967657  3.92594232] 45.941233404700036\n",
      "700 [47.20314662  3.91606866] 45.93796156758049\n",
      "800 [47.2219474   3.91259695] 45.93755706443538\n",
      "900 [47.228558    3.91137626] 45.937507054979434\n"
     ]
    }
   ],
   "source": [
    "# ОШИБКА: матричное произведение выполняется через оператор @, а не * и без np.sum\n",
    "\n",
    "W = np.array([1, 0.5])\n",
    "alpha = 0.01\n",
    "for i in range(1000):\n",
    "    y_pred = np.dot(W, X)\n",
    "    err = calc_mse(y, y_pred)\n",
    "    W -= (alpha * (1/n * 2 * X @ (y_pred - y)))\n",
    "    if i % 100 == 0:\n",
    "        print(i, W, err)"
   ]
  },
  {
   "cell_type": "markdown",
   "metadata": {
    "colab": {},
    "colab_type": "code",
    "id": "_OQ4arrXMYGb"
   },
   "source": [
    "#### *3: вместо того, чтобы задавать количество итераций, задайте условие остановки алгоритма - когда ошибка за итерацию начинает изменяться ниже определенного порога (упрощенный аналог параметра tol в линейной регрессии в sklearn)."
   ]
  },
  {
   "cell_type": "code",
   "execution_count": 7,
   "metadata": {
    "colab": {},
    "colab_type": "code",
    "id": "kGLyytFgHdco"
   },
   "outputs": [
    {
     "name": "stdout",
     "output_type": "stream",
     "text": [
      "При alpha = 0.0001 на 59095 шаге изменение ошибки становится менее 1e-06,\n",
      "при этом MSE = 45.9423,\n",
      "значение intercept = 47.1376, значение коэффициента при x = 3.9282.\n"
     ]
    }
   ],
   "source": [
    "W = np.array([1, 0.5])\n",
    "eps = 1e-6             # минимальная ошибка за итерацию\n",
    "err = np.inf\n",
    "alpha = 1e-4\n",
    "\n",
    "for i in range(100000):\n",
    "    y_pred = np.dot(W, X)\n",
    "    \n",
    "    if np.abs(err - calc_mse(y, y_pred)) > eps:\n",
    "        err = calc_mse(y, y_pred)\n",
    "        W -= (alpha * (1/n * 2 * (X @ (y_pred - y))))\n",
    "    else:\n",
    "        print(f'При alpha = {alpha} на {i} шаге изменение ошибки становится менее {eps},'\n",
    "              f'\\nпри этом MSE = {err:.4f},'\n",
    "              f'\\nзначение intercept = {W[0]:.4f}, '\n",
    "              f'значение коэффициента при x = {W[1]:.4f}.')\n",
    "        break"
   ]
  },
  {
   "cell_type": "code",
   "execution_count": null,
   "metadata": {},
   "outputs": [],
   "source": []
  }
 ],
 "metadata": {
  "colab": {
   "collapsed_sections": [],
   "name": "Lesson1.ipynb",
   "provenance": []
  },
  "kernelspec": {
   "display_name": "Python 3",
   "language": "python",
   "name": "python3"
  },
  "language_info": {
   "codemirror_mode": {
    "name": "ipython",
    "version": 3
   },
   "file_extension": ".py",
   "mimetype": "text/x-python",
   "name": "python",
   "nbconvert_exporter": "python",
   "pygments_lexer": "ipython3",
   "version": "3.7.1"
  }
 },
 "nbformat": 4,
 "nbformat_minor": 1
}
